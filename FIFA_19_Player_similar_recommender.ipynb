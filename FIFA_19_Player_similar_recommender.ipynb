{
  "nbformat": 4,
  "nbformat_minor": 0,
  "metadata": {
    "colab": {
      "name": "FIFA 19 Player similar recommender.ipynb",
      "version": "0.3.2",
      "provenance": [],
      "collapsed_sections": [],
      "include_colab_link": true
    },
    "kernelspec": {
      "name": "python3",
      "display_name": "Python 3"
    }
  },
  "cells": [
    {
      "cell_type": "markdown",
      "metadata": {
        "id": "view-in-github",
        "colab_type": "text"
      },
      "source": [
        "<a href=\"https://colab.research.google.com/github/pkpk1717/FIFA-19-player-recommender-system/blob/master/FIFA_19_Player_similar_recommender.ipynb\" target=\"_parent\"><img src=\"https://colab.research.google.com/assets/colab-badge.svg\" alt=\"Open In Colab\"/></a>"
      ]
    },
    {
      "metadata": {
        "id": "Iwfu5roqqmMX",
        "colab_type": "code",
        "colab": {
          "base_uri": "https://localhost:8080/",
          "height": 51
        },
        "outputId": "bbfcb2ae-d396-4aa1-e0bc-39002defa705"
      },
      "cell_type": "code",
      "source": [
        "import matplotlib.pyplot as plt\n",
        "import pandas as pd\n",
        "import numpy as np\n",
        "import seaborn as sns\n",
        "%matplotlib inline\n",
        "\n",
        "\n",
        "!pip install -U -q PyDrive\n",
        "from pydrive.auth import GoogleAuth\n",
        "from pydrive.drive import GoogleDrive\n",
        "from google.colab import auth\n",
        "from oauth2client.client import GoogleCredentials\n",
        "import zipfile\n",
        "import os\n",
        "import shutil\n"
      ],
      "execution_count": 1,
      "outputs": [
        {
          "output_type": "stream",
          "text": [
            "\u001b[?25l\r\u001b[K    1% |▎                               | 10kB 20.1MB/s eta 0:00:01\r\u001b[K    2% |▋                               | 20kB 1.8MB/s eta 0:00:01\r\u001b[K    3% |█                               | 30kB 2.7MB/s eta 0:00:01\r\u001b[K    4% |█▎                              | 40kB 1.7MB/s eta 0:00:01\r\u001b[K    5% |█▋                              | 51kB 2.2MB/s eta 0:00:01\r\u001b[K    6% |██                              | 61kB 2.6MB/s eta 0:00:01\r\u001b[K    7% |██▎                             | 71kB 3.0MB/s eta 0:00:01\r\u001b[K    8% |██▋                             | 81kB 3.4MB/s eta 0:00:01\r\u001b[K    9% |███                             | 92kB 3.7MB/s eta 0:00:01\r\u001b[K    10% |███▎                            | 102kB 2.9MB/s eta 0:00:01\r\u001b[K    11% |███▋                            | 112kB 2.9MB/s eta 0:00:01\r\u001b[K    12% |████                            | 122kB 4.1MB/s eta 0:00:01\r\u001b[K    13% |████▎                           | 133kB 4.1MB/s eta 0:00:01\r\u001b[K    14% |████▋                           | 143kB 7.6MB/s eta 0:00:01\r\u001b[K    15% |█████                           | 153kB 7.7MB/s eta 0:00:01\r\u001b[K    16% |█████▎                          | 163kB 7.7MB/s eta 0:00:01\r\u001b[K    17% |█████▋                          | 174kB 7.8MB/s eta 0:00:01\r\u001b[K    18% |██████                          | 184kB 7.8MB/s eta 0:00:01\r\u001b[K    19% |██████▎                         | 194kB 7.8MB/s eta 0:00:01\r\u001b[K    20% |██████▋                         | 204kB 42.5MB/s eta 0:00:01\r\u001b[K    21% |███████                         | 215kB 8.6MB/s eta 0:00:01\r\u001b[K    22% |███████▎                        | 225kB 8.6MB/s eta 0:00:01\r\u001b[K    23% |███████▋                        | 235kB 8.6MB/s eta 0:00:01\r\u001b[K    24% |████████                        | 245kB 8.6MB/s eta 0:00:01\r\u001b[K    25% |████████▎                       | 256kB 8.6MB/s eta 0:00:01\r\u001b[K    26% |████████▋                       | 266kB 8.4MB/s eta 0:00:01\r\u001b[K    27% |█████████                       | 276kB 8.5MB/s eta 0:00:01\r\u001b[K    29% |█████████▎                      | 286kB 8.5MB/s eta 0:00:01\r\u001b[K    30% |█████████▋                      | 296kB 8.4MB/s eta 0:00:01\r\u001b[K    31% |██████████                      | 307kB 8.7MB/s eta 0:00:01\r\u001b[K    32% |██████████▎                     | 317kB 48.7MB/s eta 0:00:01\r\u001b[K    33% |██████████▋                     | 327kB 50.0MB/s eta 0:00:01\r\u001b[K    34% |███████████                     | 337kB 52.8MB/s eta 0:00:01\r\u001b[K    35% |███████████▎                    | 348kB 47.5MB/s eta 0:00:01\r\u001b[K    36% |███████████▋                    | 358kB 47.4MB/s eta 0:00:01\r\u001b[K    37% |████████████                    | 368kB 55.1MB/s eta 0:00:01\r\u001b[K    38% |████████████▎                   | 378kB 55.2MB/s eta 0:00:01\r\u001b[K    39% |████████████▋                   | 389kB 55.6MB/s eta 0:00:01\r\u001b[K    40% |█████████████                   | 399kB 9.8MB/s eta 0:00:01\r\u001b[K    41% |█████████████▎                  | 409kB 9.6MB/s eta 0:00:01\r\u001b[K    42% |█████████████▋                  | 419kB 9.6MB/s eta 0:00:01\r\u001b[K    43% |██████████████                  | 430kB 9.6MB/s eta 0:00:01\r\u001b[K    44% |██████████████▎                 | 440kB 9.6MB/s eta 0:00:01\r\u001b[K    45% |██████████████▋                 | 450kB 9.7MB/s eta 0:00:01\r\u001b[K    46% |███████████████                 | 460kB 9.7MB/s eta 0:00:01\r\u001b[K    47% |███████████████▎                | 471kB 9.7MB/s eta 0:00:01\r\u001b[K    48% |███████████████▋                | 481kB 9.7MB/s eta 0:00:01\r\u001b[K    49% |████████████████                | 491kB 9.6MB/s eta 0:00:01\r\u001b[K    50% |████████████████▎               | 501kB 52.2MB/s eta 0:00:01\r\u001b[K    51% |████████████████▋               | 512kB 51.0MB/s eta 0:00:01\r\u001b[K    52% |█████████████████               | 522kB 52.6MB/s eta 0:00:01\r\u001b[K    53% |█████████████████▎              | 532kB 53.7MB/s eta 0:00:01\r\u001b[K    54% |█████████████████▋              | 542kB 53.8MB/s eta 0:00:01\r\u001b[K    55% |██████████████████              | 552kB 60.8MB/s eta 0:00:01\r\u001b[K    57% |██████████████████▎             | 563kB 60.7MB/s eta 0:00:01\r\u001b[K    58% |██████████████████▋             | 573kB 59.7MB/s eta 0:00:01\r\u001b[K    59% |███████████████████             | 583kB 59.4MB/s eta 0:00:01\r\u001b[K    60% |███████████████████▎            | 593kB 58.6MB/s eta 0:00:01\r\u001b[K    61% |███████████████████▋            | 604kB 58.9MB/s eta 0:00:01\r\u001b[K    62% |████████████████████            | 614kB 64.8MB/s eta 0:00:01\r\u001b[K    63% |████████████████████▎           | 624kB 63.6MB/s eta 0:00:01\r\u001b[K    64% |████████████████████▋           | 634kB 62.7MB/s eta 0:00:01\r\u001b[K    65% |█████████████████████           | 645kB 61.5MB/s eta 0:00:01\r\u001b[K    66% |█████████████████████▎          | 655kB 10.0MB/s eta 0:00:01\r\u001b[K    67% |█████████████████████▋          | 665kB 9.4MB/s eta 0:00:01\r\u001b[K    68% |██████████████████████          | 675kB 9.3MB/s eta 0:00:01\r\u001b[K    69% |██████████████████████▎         | 686kB 9.3MB/s eta 0:00:01\r\u001b[K    70% |██████████████████████▋         | 696kB 9.4MB/s eta 0:00:01\r\u001b[K    71% |███████████████████████         | 706kB 9.4MB/s eta 0:00:01\r\u001b[K    72% |███████████████████████▎        | 716kB 9.4MB/s eta 0:00:01\r\u001b[K    73% |███████████████████████▋        | 727kB 9.4MB/s eta 0:00:01\r\u001b[K    74% |████████████████████████        | 737kB 9.4MB/s eta 0:00:01\r\u001b[K    75% |████████████████████████▎       | 747kB 9.4MB/s eta 0:00:01\r\u001b[K    76% |████████████████████████▋       | 757kB 42.7MB/s eta 0:00:01\r\u001b[K    77% |████████████████████████▉       | 768kB 59.5MB/s eta 0:00:01\r\u001b[K    78% |█████████████████████████▏      | 778kB 61.9MB/s eta 0:00:01\r\u001b[K    79% |█████████████████████████▌      | 788kB 60.4MB/s eta 0:00:01\r\u001b[K    80% |█████████████████████████▉      | 798kB 60.8MB/s eta 0:00:01\r\u001b[K    81% |██████████████████████████▏     | 808kB 60.6MB/s eta 0:00:01\r\u001b[K    82% |██████████████████████████▌     | 819kB 59.3MB/s eta 0:00:01\r\u001b[K    83% |██████████████████████████▉     | 829kB 60.5MB/s eta 0:00:01\r\u001b[K    85% |███████████████████████████▏    | 839kB 61.2MB/s eta 0:00:01\r\u001b[K    86% |███████████████████████████▌    | 849kB 60.8MB/s eta 0:00:01\r\u001b[K    87% |███████████████████████████▉    | 860kB 53.2MB/s eta 0:00:01\r\u001b[K    88% |████████████████████████████▏   | 870kB 52.7MB/s eta 0:00:01\r\u001b[K    89% |████████████████████████████▌   | 880kB 53.7MB/s eta 0:00:01\r\u001b[K    90% |████████████████████████████▉   | 890kB 55.2MB/s eta 0:00:01\r\u001b[K    91% |█████████████████████████████▏  | 901kB 55.2MB/s eta 0:00:01\r\u001b[K    92% |█████████████████████████████▌  | 911kB 55.7MB/s eta 0:00:01\r\u001b[K    93% |█████████████████████████████▉  | 921kB 56.9MB/s eta 0:00:01\r\u001b[K    94% |██████████████████████████████▏ | 931kB 56.5MB/s eta 0:00:01\r\u001b[K    95% |██████████████████████████████▌ | 942kB 56.6MB/s eta 0:00:01\r\u001b[K    96% |██████████████████████████████▉ | 952kB 56.7MB/s eta 0:00:01\r\u001b[K    97% |███████████████████████████████▏| 962kB 66.8MB/s eta 0:00:01\r\u001b[K    98% |███████████████████████████████▌| 972kB 67.2MB/s eta 0:00:01\r\u001b[K    99% |███████████████████████████████▉| 983kB 65.8MB/s eta 0:00:01\r\u001b[K    100% |████████████████████████████████| 993kB 21.2MB/s \n",
            "\u001b[?25h  Building wheel for PyDrive (setup.py) ... \u001b[?25ldone\n",
            "\u001b[?25h"
          ],
          "name": "stdout"
        }
      ]
    },
    {
      "metadata": {
        "id": "jFKgc2Vpqy4U",
        "colab_type": "code",
        "colab": {}
      },
      "cell_type": "code",
      "source": [
        "## GOOGLE DRIVE AUTHENTICATION\n",
        "# -codepk03\n",
        "auth.authenticate_user()\n",
        "gauth = GoogleAuth()\n",
        "gauth.credentials = GoogleCredentials.get_application_default()\n",
        "drive = GoogleDrive(gauth)"
      ],
      "execution_count": 0,
      "outputs": []
    },
    {
      "metadata": {
        "id": "Zc8B4dQPsH7c",
        "colab_type": "code",
        "colab": {}
      },
      "cell_type": "code",
      "source": [
        "## SEACHING FOR THE ZIP FILE AND THEN UNZIPPING IT IN COLAB AND DELETING UN-NECESSARY FILES\n",
        "\n",
        "fid = drive.ListFile({'q':\"title='fifa19.zip'\"}).GetList()[0]['id']\n",
        "f = drive.CreateFile({'id': fid})\n",
        "f.GetContentFile('fifa19.zip')\n",
        "with zipfile.ZipFile(\"fifa19.zip\",\"r\") as zip_ref:\n",
        "    zip_ref.extractall(\"fifa_data/\")\n",
        "os.unlink('fifa19.zip')"
      ],
      "execution_count": 0,
      "outputs": []
    },
    {
      "metadata": {
        "id": "Uuh7HEIQshfS",
        "colab_type": "code",
        "colab": {}
      },
      "cell_type": "code",
      "source": [
        "data = pd.read_csv('fifa_data/data.csv')"
      ],
      "execution_count": 0,
      "outputs": []
    },
    {
      "metadata": {
        "id": "Lipzfz4NtHHJ",
        "colab_type": "code",
        "colab": {
          "base_uri": "https://localhost:8080/",
          "height": 355
        },
        "outputId": "e09330aa-7a31-49dd-fb7b-617c890feadb"
      },
      "cell_type": "code",
      "source": [
        "data.head()"
      ],
      "execution_count": 17,
      "outputs": [
        {
          "output_type": "execute_result",
          "data": {
            "text/html": [
              "<div>\n",
              "<style scoped>\n",
              "    .dataframe tbody tr th:only-of-type {\n",
              "        vertical-align: middle;\n",
              "    }\n",
              "\n",
              "    .dataframe tbody tr th {\n",
              "        vertical-align: top;\n",
              "    }\n",
              "\n",
              "    .dataframe thead th {\n",
              "        text-align: right;\n",
              "    }\n",
              "</style>\n",
              "<table border=\"1\" class=\"dataframe\">\n",
              "  <thead>\n",
              "    <tr style=\"text-align: right;\">\n",
              "      <th></th>\n",
              "      <th>Unnamed: 0</th>\n",
              "      <th>ID</th>\n",
              "      <th>Name</th>\n",
              "      <th>Age</th>\n",
              "      <th>Photo</th>\n",
              "      <th>Nationality</th>\n",
              "      <th>Flag</th>\n",
              "      <th>Overall</th>\n",
              "      <th>Potential</th>\n",
              "      <th>Club</th>\n",
              "      <th>...</th>\n",
              "      <th>Composure</th>\n",
              "      <th>Marking</th>\n",
              "      <th>StandingTackle</th>\n",
              "      <th>SlidingTackle</th>\n",
              "      <th>GKDiving</th>\n",
              "      <th>GKHandling</th>\n",
              "      <th>GKKicking</th>\n",
              "      <th>GKPositioning</th>\n",
              "      <th>GKReflexes</th>\n",
              "      <th>Release Clause</th>\n",
              "    </tr>\n",
              "  </thead>\n",
              "  <tbody>\n",
              "    <tr>\n",
              "      <th>0</th>\n",
              "      <td>0</td>\n",
              "      <td>158023</td>\n",
              "      <td>L. Messi</td>\n",
              "      <td>31</td>\n",
              "      <td>https://cdn.sofifa.org/players/4/19/158023.png</td>\n",
              "      <td>Argentina</td>\n",
              "      <td>https://cdn.sofifa.org/flags/52.png</td>\n",
              "      <td>94</td>\n",
              "      <td>94</td>\n",
              "      <td>FC Barcelona</td>\n",
              "      <td>...</td>\n",
              "      <td>96.0</td>\n",
              "      <td>33.0</td>\n",
              "      <td>28.0</td>\n",
              "      <td>26.0</td>\n",
              "      <td>6.0</td>\n",
              "      <td>11.0</td>\n",
              "      <td>15.0</td>\n",
              "      <td>14.0</td>\n",
              "      <td>8.0</td>\n",
              "      <td>€226.5M</td>\n",
              "    </tr>\n",
              "    <tr>\n",
              "      <th>1</th>\n",
              "      <td>1</td>\n",
              "      <td>20801</td>\n",
              "      <td>Cristiano Ronaldo</td>\n",
              "      <td>33</td>\n",
              "      <td>https://cdn.sofifa.org/players/4/19/20801.png</td>\n",
              "      <td>Portugal</td>\n",
              "      <td>https://cdn.sofifa.org/flags/38.png</td>\n",
              "      <td>94</td>\n",
              "      <td>94</td>\n",
              "      <td>Juventus</td>\n",
              "      <td>...</td>\n",
              "      <td>95.0</td>\n",
              "      <td>28.0</td>\n",
              "      <td>31.0</td>\n",
              "      <td>23.0</td>\n",
              "      <td>7.0</td>\n",
              "      <td>11.0</td>\n",
              "      <td>15.0</td>\n",
              "      <td>14.0</td>\n",
              "      <td>11.0</td>\n",
              "      <td>€127.1M</td>\n",
              "    </tr>\n",
              "    <tr>\n",
              "      <th>2</th>\n",
              "      <td>2</td>\n",
              "      <td>190871</td>\n",
              "      <td>Neymar Jr</td>\n",
              "      <td>26</td>\n",
              "      <td>https://cdn.sofifa.org/players/4/19/190871.png</td>\n",
              "      <td>Brazil</td>\n",
              "      <td>https://cdn.sofifa.org/flags/54.png</td>\n",
              "      <td>92</td>\n",
              "      <td>93</td>\n",
              "      <td>Paris Saint-Germain</td>\n",
              "      <td>...</td>\n",
              "      <td>94.0</td>\n",
              "      <td>27.0</td>\n",
              "      <td>24.0</td>\n",
              "      <td>33.0</td>\n",
              "      <td>9.0</td>\n",
              "      <td>9.0</td>\n",
              "      <td>15.0</td>\n",
              "      <td>15.0</td>\n",
              "      <td>11.0</td>\n",
              "      <td>€228.1M</td>\n",
              "    </tr>\n",
              "    <tr>\n",
              "      <th>3</th>\n",
              "      <td>3</td>\n",
              "      <td>193080</td>\n",
              "      <td>De Gea</td>\n",
              "      <td>27</td>\n",
              "      <td>https://cdn.sofifa.org/players/4/19/193080.png</td>\n",
              "      <td>Spain</td>\n",
              "      <td>https://cdn.sofifa.org/flags/45.png</td>\n",
              "      <td>91</td>\n",
              "      <td>93</td>\n",
              "      <td>Manchester United</td>\n",
              "      <td>...</td>\n",
              "      <td>68.0</td>\n",
              "      <td>15.0</td>\n",
              "      <td>21.0</td>\n",
              "      <td>13.0</td>\n",
              "      <td>90.0</td>\n",
              "      <td>85.0</td>\n",
              "      <td>87.0</td>\n",
              "      <td>88.0</td>\n",
              "      <td>94.0</td>\n",
              "      <td>€138.6M</td>\n",
              "    </tr>\n",
              "    <tr>\n",
              "      <th>4</th>\n",
              "      <td>4</td>\n",
              "      <td>192985</td>\n",
              "      <td>K. De Bruyne</td>\n",
              "      <td>27</td>\n",
              "      <td>https://cdn.sofifa.org/players/4/19/192985.png</td>\n",
              "      <td>Belgium</td>\n",
              "      <td>https://cdn.sofifa.org/flags/7.png</td>\n",
              "      <td>91</td>\n",
              "      <td>92</td>\n",
              "      <td>Manchester City</td>\n",
              "      <td>...</td>\n",
              "      <td>88.0</td>\n",
              "      <td>68.0</td>\n",
              "      <td>58.0</td>\n",
              "      <td>51.0</td>\n",
              "      <td>15.0</td>\n",
              "      <td>13.0</td>\n",
              "      <td>5.0</td>\n",
              "      <td>10.0</td>\n",
              "      <td>13.0</td>\n",
              "      <td>€196.4M</td>\n",
              "    </tr>\n",
              "  </tbody>\n",
              "</table>\n",
              "<p>5 rows × 89 columns</p>\n",
              "</div>"
            ],
            "text/plain": [
              "   Unnamed: 0      ID               Name  Age  \\\n",
              "0           0  158023           L. Messi   31   \n",
              "1           1   20801  Cristiano Ronaldo   33   \n",
              "2           2  190871          Neymar Jr   26   \n",
              "3           3  193080             De Gea   27   \n",
              "4           4  192985       K. De Bruyne   27   \n",
              "\n",
              "                                            Photo Nationality  \\\n",
              "0  https://cdn.sofifa.org/players/4/19/158023.png   Argentina   \n",
              "1   https://cdn.sofifa.org/players/4/19/20801.png    Portugal   \n",
              "2  https://cdn.sofifa.org/players/4/19/190871.png      Brazil   \n",
              "3  https://cdn.sofifa.org/players/4/19/193080.png       Spain   \n",
              "4  https://cdn.sofifa.org/players/4/19/192985.png     Belgium   \n",
              "\n",
              "                                  Flag  Overall  Potential  \\\n",
              "0  https://cdn.sofifa.org/flags/52.png       94         94   \n",
              "1  https://cdn.sofifa.org/flags/38.png       94         94   \n",
              "2  https://cdn.sofifa.org/flags/54.png       92         93   \n",
              "3  https://cdn.sofifa.org/flags/45.png       91         93   \n",
              "4   https://cdn.sofifa.org/flags/7.png       91         92   \n",
              "\n",
              "                  Club      ...       Composure Marking StandingTackle  \\\n",
              "0         FC Barcelona      ...            96.0    33.0           28.0   \n",
              "1             Juventus      ...            95.0    28.0           31.0   \n",
              "2  Paris Saint-Germain      ...            94.0    27.0           24.0   \n",
              "3    Manchester United      ...            68.0    15.0           21.0   \n",
              "4      Manchester City      ...            88.0    68.0           58.0   \n",
              "\n",
              "   SlidingTackle GKDiving  GKHandling  GKKicking  GKPositioning GKReflexes  \\\n",
              "0           26.0      6.0        11.0       15.0           14.0        8.0   \n",
              "1           23.0      7.0        11.0       15.0           14.0       11.0   \n",
              "2           33.0      9.0         9.0       15.0           15.0       11.0   \n",
              "3           13.0     90.0        85.0       87.0           88.0       94.0   \n",
              "4           51.0     15.0        13.0        5.0           10.0       13.0   \n",
              "\n",
              "  Release Clause  \n",
              "0        €226.5M  \n",
              "1        €127.1M  \n",
              "2        €228.1M  \n",
              "3        €138.6M  \n",
              "4        €196.4M  \n",
              "\n",
              "[5 rows x 89 columns]"
            ]
          },
          "metadata": {
            "tags": []
          },
          "execution_count": 17
        }
      ]
    },
    {
      "metadata": {
        "id": "YhCnMrb8tH1G",
        "colab_type": "code",
        "colab": {
          "base_uri": "https://localhost:8080/",
          "height": 363
        },
        "outputId": "026bca41-d89d-4c2b-af4e-b49dc7013034"
      },
      "cell_type": "code",
      "source": [
        "data.describe()"
      ],
      "execution_count": 18,
      "outputs": [
        {
          "output_type": "execute_result",
          "data": {
            "text/html": [
              "<div>\n",
              "<style scoped>\n",
              "    .dataframe tbody tr th:only-of-type {\n",
              "        vertical-align: middle;\n",
              "    }\n",
              "\n",
              "    .dataframe tbody tr th {\n",
              "        vertical-align: top;\n",
              "    }\n",
              "\n",
              "    .dataframe thead th {\n",
              "        text-align: right;\n",
              "    }\n",
              "</style>\n",
              "<table border=\"1\" class=\"dataframe\">\n",
              "  <thead>\n",
              "    <tr style=\"text-align: right;\">\n",
              "      <th></th>\n",
              "      <th>Unnamed: 0</th>\n",
              "      <th>ID</th>\n",
              "      <th>Age</th>\n",
              "      <th>Overall</th>\n",
              "      <th>Potential</th>\n",
              "      <th>Special</th>\n",
              "      <th>International Reputation</th>\n",
              "      <th>Weak Foot</th>\n",
              "      <th>Skill Moves</th>\n",
              "      <th>Jersey Number</th>\n",
              "      <th>...</th>\n",
              "      <th>Penalties</th>\n",
              "      <th>Composure</th>\n",
              "      <th>Marking</th>\n",
              "      <th>StandingTackle</th>\n",
              "      <th>SlidingTackle</th>\n",
              "      <th>GKDiving</th>\n",
              "      <th>GKHandling</th>\n",
              "      <th>GKKicking</th>\n",
              "      <th>GKPositioning</th>\n",
              "      <th>GKReflexes</th>\n",
              "    </tr>\n",
              "  </thead>\n",
              "  <tbody>\n",
              "    <tr>\n",
              "      <th>count</th>\n",
              "      <td>18207.000000</td>\n",
              "      <td>18207.000000</td>\n",
              "      <td>18207.000000</td>\n",
              "      <td>18207.000000</td>\n",
              "      <td>18207.000000</td>\n",
              "      <td>18207.000000</td>\n",
              "      <td>18159.000000</td>\n",
              "      <td>18159.000000</td>\n",
              "      <td>18159.000000</td>\n",
              "      <td>18147.000000</td>\n",
              "      <td>...</td>\n",
              "      <td>18159.000000</td>\n",
              "      <td>18159.000000</td>\n",
              "      <td>18159.000000</td>\n",
              "      <td>18159.000000</td>\n",
              "      <td>18159.000000</td>\n",
              "      <td>18159.000000</td>\n",
              "      <td>18159.000000</td>\n",
              "      <td>18159.000000</td>\n",
              "      <td>18159.000000</td>\n",
              "      <td>18159.000000</td>\n",
              "    </tr>\n",
              "    <tr>\n",
              "      <th>mean</th>\n",
              "      <td>9103.000000</td>\n",
              "      <td>214298.338606</td>\n",
              "      <td>25.122206</td>\n",
              "      <td>66.238699</td>\n",
              "      <td>71.307299</td>\n",
              "      <td>1597.809908</td>\n",
              "      <td>1.113222</td>\n",
              "      <td>2.947299</td>\n",
              "      <td>2.361308</td>\n",
              "      <td>19.546096</td>\n",
              "      <td>...</td>\n",
              "      <td>48.548598</td>\n",
              "      <td>58.648274</td>\n",
              "      <td>47.281623</td>\n",
              "      <td>47.697836</td>\n",
              "      <td>45.661435</td>\n",
              "      <td>16.616223</td>\n",
              "      <td>16.391596</td>\n",
              "      <td>16.232061</td>\n",
              "      <td>16.388898</td>\n",
              "      <td>16.710887</td>\n",
              "    </tr>\n",
              "    <tr>\n",
              "      <th>std</th>\n",
              "      <td>5256.052511</td>\n",
              "      <td>29965.244204</td>\n",
              "      <td>4.669943</td>\n",
              "      <td>6.908930</td>\n",
              "      <td>6.136496</td>\n",
              "      <td>272.586016</td>\n",
              "      <td>0.394031</td>\n",
              "      <td>0.660456</td>\n",
              "      <td>0.756164</td>\n",
              "      <td>15.947765</td>\n",
              "      <td>...</td>\n",
              "      <td>15.704053</td>\n",
              "      <td>11.436133</td>\n",
              "      <td>19.904397</td>\n",
              "      <td>21.664004</td>\n",
              "      <td>21.289135</td>\n",
              "      <td>17.695349</td>\n",
              "      <td>16.906900</td>\n",
              "      <td>16.502864</td>\n",
              "      <td>17.034669</td>\n",
              "      <td>17.955119</td>\n",
              "    </tr>\n",
              "    <tr>\n",
              "      <th>min</th>\n",
              "      <td>0.000000</td>\n",
              "      <td>16.000000</td>\n",
              "      <td>16.000000</td>\n",
              "      <td>46.000000</td>\n",
              "      <td>48.000000</td>\n",
              "      <td>731.000000</td>\n",
              "      <td>1.000000</td>\n",
              "      <td>1.000000</td>\n",
              "      <td>1.000000</td>\n",
              "      <td>1.000000</td>\n",
              "      <td>...</td>\n",
              "      <td>5.000000</td>\n",
              "      <td>3.000000</td>\n",
              "      <td>3.000000</td>\n",
              "      <td>2.000000</td>\n",
              "      <td>3.000000</td>\n",
              "      <td>1.000000</td>\n",
              "      <td>1.000000</td>\n",
              "      <td>1.000000</td>\n",
              "      <td>1.000000</td>\n",
              "      <td>1.000000</td>\n",
              "    </tr>\n",
              "    <tr>\n",
              "      <th>25%</th>\n",
              "      <td>4551.500000</td>\n",
              "      <td>200315.500000</td>\n",
              "      <td>21.000000</td>\n",
              "      <td>62.000000</td>\n",
              "      <td>67.000000</td>\n",
              "      <td>1457.000000</td>\n",
              "      <td>1.000000</td>\n",
              "      <td>3.000000</td>\n",
              "      <td>2.000000</td>\n",
              "      <td>8.000000</td>\n",
              "      <td>...</td>\n",
              "      <td>39.000000</td>\n",
              "      <td>51.000000</td>\n",
              "      <td>30.000000</td>\n",
              "      <td>27.000000</td>\n",
              "      <td>24.000000</td>\n",
              "      <td>8.000000</td>\n",
              "      <td>8.000000</td>\n",
              "      <td>8.000000</td>\n",
              "      <td>8.000000</td>\n",
              "      <td>8.000000</td>\n",
              "    </tr>\n",
              "    <tr>\n",
              "      <th>50%</th>\n",
              "      <td>9103.000000</td>\n",
              "      <td>221759.000000</td>\n",
              "      <td>25.000000</td>\n",
              "      <td>66.000000</td>\n",
              "      <td>71.000000</td>\n",
              "      <td>1635.000000</td>\n",
              "      <td>1.000000</td>\n",
              "      <td>3.000000</td>\n",
              "      <td>2.000000</td>\n",
              "      <td>17.000000</td>\n",
              "      <td>...</td>\n",
              "      <td>49.000000</td>\n",
              "      <td>60.000000</td>\n",
              "      <td>53.000000</td>\n",
              "      <td>55.000000</td>\n",
              "      <td>52.000000</td>\n",
              "      <td>11.000000</td>\n",
              "      <td>11.000000</td>\n",
              "      <td>11.000000</td>\n",
              "      <td>11.000000</td>\n",
              "      <td>11.000000</td>\n",
              "    </tr>\n",
              "    <tr>\n",
              "      <th>75%</th>\n",
              "      <td>13654.500000</td>\n",
              "      <td>236529.500000</td>\n",
              "      <td>28.000000</td>\n",
              "      <td>71.000000</td>\n",
              "      <td>75.000000</td>\n",
              "      <td>1787.000000</td>\n",
              "      <td>1.000000</td>\n",
              "      <td>3.000000</td>\n",
              "      <td>3.000000</td>\n",
              "      <td>26.000000</td>\n",
              "      <td>...</td>\n",
              "      <td>60.000000</td>\n",
              "      <td>67.000000</td>\n",
              "      <td>64.000000</td>\n",
              "      <td>66.000000</td>\n",
              "      <td>64.000000</td>\n",
              "      <td>14.000000</td>\n",
              "      <td>14.000000</td>\n",
              "      <td>14.000000</td>\n",
              "      <td>14.000000</td>\n",
              "      <td>14.000000</td>\n",
              "    </tr>\n",
              "    <tr>\n",
              "      <th>max</th>\n",
              "      <td>18206.000000</td>\n",
              "      <td>246620.000000</td>\n",
              "      <td>45.000000</td>\n",
              "      <td>94.000000</td>\n",
              "      <td>95.000000</td>\n",
              "      <td>2346.000000</td>\n",
              "      <td>5.000000</td>\n",
              "      <td>5.000000</td>\n",
              "      <td>5.000000</td>\n",
              "      <td>99.000000</td>\n",
              "      <td>...</td>\n",
              "      <td>92.000000</td>\n",
              "      <td>96.000000</td>\n",
              "      <td>94.000000</td>\n",
              "      <td>93.000000</td>\n",
              "      <td>91.000000</td>\n",
              "      <td>90.000000</td>\n",
              "      <td>92.000000</td>\n",
              "      <td>91.000000</td>\n",
              "      <td>90.000000</td>\n",
              "      <td>94.000000</td>\n",
              "    </tr>\n",
              "  </tbody>\n",
              "</table>\n",
              "<p>8 rows × 44 columns</p>\n",
              "</div>"
            ],
            "text/plain": [
              "         Unnamed: 0             ID           Age       Overall     Potential  \\\n",
              "count  18207.000000   18207.000000  18207.000000  18207.000000  18207.000000   \n",
              "mean    9103.000000  214298.338606     25.122206     66.238699     71.307299   \n",
              "std     5256.052511   29965.244204      4.669943      6.908930      6.136496   \n",
              "min        0.000000      16.000000     16.000000     46.000000     48.000000   \n",
              "25%     4551.500000  200315.500000     21.000000     62.000000     67.000000   \n",
              "50%     9103.000000  221759.000000     25.000000     66.000000     71.000000   \n",
              "75%    13654.500000  236529.500000     28.000000     71.000000     75.000000   \n",
              "max    18206.000000  246620.000000     45.000000     94.000000     95.000000   \n",
              "\n",
              "            Special  International Reputation     Weak Foot   Skill Moves  \\\n",
              "count  18207.000000              18159.000000  18159.000000  18159.000000   \n",
              "mean    1597.809908                  1.113222      2.947299      2.361308   \n",
              "std      272.586016                  0.394031      0.660456      0.756164   \n",
              "min      731.000000                  1.000000      1.000000      1.000000   \n",
              "25%     1457.000000                  1.000000      3.000000      2.000000   \n",
              "50%     1635.000000                  1.000000      3.000000      2.000000   \n",
              "75%     1787.000000                  1.000000      3.000000      3.000000   \n",
              "max     2346.000000                  5.000000      5.000000      5.000000   \n",
              "\n",
              "       Jersey Number      ...          Penalties     Composure       Marking  \\\n",
              "count   18147.000000      ...       18159.000000  18159.000000  18159.000000   \n",
              "mean       19.546096      ...          48.548598     58.648274     47.281623   \n",
              "std        15.947765      ...          15.704053     11.436133     19.904397   \n",
              "min         1.000000      ...           5.000000      3.000000      3.000000   \n",
              "25%         8.000000      ...          39.000000     51.000000     30.000000   \n",
              "50%        17.000000      ...          49.000000     60.000000     53.000000   \n",
              "75%        26.000000      ...          60.000000     67.000000     64.000000   \n",
              "max        99.000000      ...          92.000000     96.000000     94.000000   \n",
              "\n",
              "       StandingTackle  SlidingTackle      GKDiving    GKHandling  \\\n",
              "count    18159.000000   18159.000000  18159.000000  18159.000000   \n",
              "mean        47.697836      45.661435     16.616223     16.391596   \n",
              "std         21.664004      21.289135     17.695349     16.906900   \n",
              "min          2.000000       3.000000      1.000000      1.000000   \n",
              "25%         27.000000      24.000000      8.000000      8.000000   \n",
              "50%         55.000000      52.000000     11.000000     11.000000   \n",
              "75%         66.000000      64.000000     14.000000     14.000000   \n",
              "max         93.000000      91.000000     90.000000     92.000000   \n",
              "\n",
              "          GKKicking  GKPositioning    GKReflexes  \n",
              "count  18159.000000   18159.000000  18159.000000  \n",
              "mean      16.232061      16.388898     16.710887  \n",
              "std       16.502864      17.034669     17.955119  \n",
              "min        1.000000       1.000000      1.000000  \n",
              "25%        8.000000       8.000000      8.000000  \n",
              "50%       11.000000      11.000000     11.000000  \n",
              "75%       14.000000      14.000000     14.000000  \n",
              "max       91.000000      90.000000     94.000000  \n",
              "\n",
              "[8 rows x 44 columns]"
            ]
          },
          "metadata": {
            "tags": []
          },
          "execution_count": 18
        }
      ]
    },
    {
      "metadata": {
        "id": "zGCm-qGevL2z",
        "colab_type": "code",
        "colab": {
          "base_uri": "https://localhost:8080/",
          "height": 289
        },
        "outputId": "80d241fe-9583-4f39-8f20-8eb07dd2c6bc"
      },
      "cell_type": "code",
      "source": [
        "data.columns"
      ],
      "execution_count": 19,
      "outputs": [
        {
          "output_type": "execute_result",
          "data": {
            "text/plain": [
              "Index(['Unnamed: 0', 'ID', 'Name', 'Age', 'Photo', 'Nationality', 'Flag',\n",
              "       'Overall', 'Potential', 'Club', 'Club Logo', 'Value', 'Wage', 'Special',\n",
              "       'Preferred Foot', 'International Reputation', 'Weak Foot',\n",
              "       'Skill Moves', 'Work Rate', 'Body Type', 'Real Face', 'Position',\n",
              "       'Jersey Number', 'Joined', 'Loaned From', 'Contract Valid Until',\n",
              "       'Height', 'Weight', 'LS', 'ST', 'RS', 'LW', 'LF', 'CF', 'RF', 'RW',\n",
              "       'LAM', 'CAM', 'RAM', 'LM', 'LCM', 'CM', 'RCM', 'RM', 'LWB', 'LDM',\n",
              "       'CDM', 'RDM', 'RWB', 'LB', 'LCB', 'CB', 'RCB', 'RB', 'Crossing',\n",
              "       'Finishing', 'HeadingAccuracy', 'ShortPassing', 'Volleys', 'Dribbling',\n",
              "       'Curve', 'FKAccuracy', 'LongPassing', 'BallControl', 'Acceleration',\n",
              "       'SprintSpeed', 'Agility', 'Reactions', 'Balance', 'ShotPower',\n",
              "       'Jumping', 'Stamina', 'Strength', 'LongShots', 'Aggression',\n",
              "       'Interceptions', 'Positioning', 'Vision', 'Penalties', 'Composure',\n",
              "       'Marking', 'StandingTackle', 'SlidingTackle', 'GKDiving', 'GKHandling',\n",
              "       'GKKicking', 'GKPositioning', 'GKReflexes', 'Release Clause'],\n",
              "      dtype='object')"
            ]
          },
          "metadata": {
            "tags": []
          },
          "execution_count": 19
        }
      ]
    },
    {
      "metadata": {
        "id": "luQ3tPHNpugO",
        "colab_type": "text"
      },
      "cell_type": "markdown",
      "source": [
        "## Initial insights"
      ]
    },
    {
      "metadata": {
        "id": "CjvJ7EolpgBi",
        "colab_type": "code",
        "colab": {
          "base_uri": "https://localhost:8080/",
          "height": 640
        },
        "outputId": "02b38674-4549-4467-f89f-9bbdad2a2189"
      },
      "cell_type": "code",
      "source": [
        "plt.figure(figsize = (15,10))\n",
        "sns.boxplot(x = \"Work Rate\", y = \"Age\", data = data)\n",
        "plt.show()"
      ],
      "execution_count": 20,
      "outputs": [
        {
          "output_type": "stream",
          "text": [
            "/usr/local/lib/python3.6/dist-packages/seaborn/categorical.py:454: FutureWarning: remove_na is deprecated and is a private function. Do not use.\n",
            "  box_data = remove_na(group_data)\n"
          ],
          "name": "stderr"
        },
        {
          "output_type": "display_data",
          "data": {
            "image/png": "[encoded data removed]",
            "text/plain": [
              "<Figure size 1080x720 with 1 Axes>"
            ]
          },
          "metadata": {
            "tags": []
          }
        }
      ]
    },
    {
      "metadata": {
        "id": "a2EG0Q8Gp5h2",
        "colab_type": "code",
        "colab": {
          "base_uri": "https://localhost:8080/",
          "height": 1071
        },
        "outputId": "939d5077-747b-4eb4-ab2b-fb982748ac62"
      },
      "cell_type": "code",
      "source": [
        "data.isna().sum().sort_values(ascending=False)"
      ],
      "execution_count": 21,
      "outputs": [
        {
          "output_type": "execute_result",
          "data": {
            "text/plain": [
              "Loaned From             16943\n",
              "LWB                      2085\n",
              "LM                       2085\n",
              "CB                       2085\n",
              "LCB                      2085\n",
              "LB                       2085\n",
              "RWB                      2085\n",
              "RDM                      2085\n",
              "CDM                      2085\n",
              "LDM                      2085\n",
              "RM                       2085\n",
              "RCM                      2085\n",
              "CM                       2085\n",
              "LCM                      2085\n",
              "RAM                      2085\n",
              "RB                       2085\n",
              "CAM                      2085\n",
              "LAM                      2085\n",
              "RW                       2085\n",
              "RF                       2085\n",
              "CF                       2085\n",
              "LF                       2085\n",
              "LW                       2085\n",
              "RS                       2085\n",
              "ST                       2085\n",
              "LS                       2085\n",
              "RCB                      2085\n",
              "Release Clause           1564\n",
              "Joined                   1553\n",
              "Contract Valid Until      289\n",
              "                        ...  \n",
              "Positioning                48\n",
              "FKAccuracy                 48\n",
              "LongPassing                48\n",
              "BallControl                48\n",
              "Acceleration               48\n",
              "SprintSpeed                48\n",
              "Crossing                   48\n",
              "Reactions                  48\n",
              "ShotPower                  48\n",
              "GKReflexes                 48\n",
              "Jumping                    48\n",
              "Stamina                    48\n",
              "Strength                   48\n",
              "LongShots                  48\n",
              "Aggression                 48\n",
              "Balance                    48\n",
              "Interceptions              48\n",
              "Flag                        0\n",
              "ID                          0\n",
              "Name                        0\n",
              "Age                         0\n",
              "Photo                       0\n",
              "Nationality                 0\n",
              "Value                       0\n",
              "Overall                     0\n",
              "Potential                   0\n",
              "Club Logo                   0\n",
              "Wage                        0\n",
              "Special                     0\n",
              "Unnamed: 0                  0\n",
              "Length: 89, dtype: int64"
            ]
          },
          "metadata": {
            "tags": []
          },
          "execution_count": 21
        }
      ]
    },
    {
      "metadata": {
        "id": "NCJ1NfSYp-83",
        "colab_type": "text"
      },
      "cell_type": "markdown",
      "source": [
        "Above stats shows that there are a lot of empty values and this large number can not be filled, so dropping the most empty columns woud help."
      ]
    },
    {
      "metadata": {
        "id": "684tKydip5fA",
        "colab_type": "code",
        "colab": {}
      },
      "cell_type": "code",
      "source": [
        "data.drop('Loaned From',axis=1,inplace=True)"
      ],
      "execution_count": 0,
      "outputs": []
    },
    {
      "metadata": {
        "id": "Dk8QHS98p5cT",
        "colab_type": "code",
        "colab": {
          "base_uri": "https://localhost:8080/",
          "height": 338
        },
        "outputId": "019db76a-3c44-4ce7-a349-aca756465cc9"
      },
      "cell_type": "code",
      "source": [
        "data['Nationality'].value_counts()[:15].plot(kind='bar')\n",
        "plt.show()"
      ],
      "execution_count": 23,
      "outputs": [
        {
          "output_type": "display_data",
          "data": {
            "image/png": "[encoded data removed]",
            "text/plain": [
              "<Figure size 432x288 with 1 Axes>"
            ]
          },
          "metadata": {
            "tags": []
          }
        }
      ]
    },
    {
      "metadata": {
        "id": "8TGsOzU2p5a8",
        "colab_type": "text"
      },
      "cell_type": "markdown",
      "source": [
        "Most number of players are from England, Germany and Spain as expected since 3 major leagues games are played in football there."
      ]
    },
    {
      "metadata": {
        "id": "mPevV0-qtOoG",
        "colab_type": "code",
        "colab": {
          "base_uri": "https://localhost:8080/",
          "height": 355
        },
        "outputId": "bdf23d09-3deb-49ef-835c-af51212e7274"
      },
      "cell_type": "code",
      "source": [
        "## lets drop unnecessary columns\n",
        "\n",
        "cols_to_be_dropped = ['ID','Unnamed: 0','Weak Foot','Release Clause','Wage','Photo', 'Nationality', 'Flag',\n",
        "                      'Club Logo', 'International Reputation',\n",
        "                      'Work Rate', 'Body Type', 'Real Face','Jersey Number', 'Joined', \n",
        "                      'Contract Valid Until','LS', 'ST', 'RS', 'LW', 'LF', 'CF', 'RF', \n",
        "                      'RW','LAM', 'CAM', 'RAM', 'LM', 'LCM', 'CM', 'RCM', 'RM', 'LWB', \n",
        "                      'LDM','CDM', 'RDM', 'RWB', 'LB', 'LCB','CB', 'RCB', 'RB',]\n",
        "data.drop(cols_to_be_dropped,axis=1,inplace=True)\n",
        "data.head()"
      ],
      "execution_count": 24,
      "outputs": [
        {
          "output_type": "execute_result",
          "data": {
            "text/html": [
              "<div>\n",
              "<style scoped>\n",
              "    .dataframe tbody tr th:only-of-type {\n",
              "        vertical-align: middle;\n",
              "    }\n",
              "\n",
              "    .dataframe tbody tr th {\n",
              "        vertical-align: top;\n",
              "    }\n",
              "\n",
              "    .dataframe thead th {\n",
              "        text-align: right;\n",
              "    }\n",
              "</style>\n",
              "<table border=\"1\" class=\"dataframe\">\n",
              "  <thead>\n",
              "    <tr style=\"text-align: right;\">\n",
              "      <th></th>\n",
              "      <th>Name</th>\n",
              "      <th>Age</th>\n",
              "      <th>Overall</th>\n",
              "      <th>Potential</th>\n",
              "      <th>Club</th>\n",
              "      <th>Value</th>\n",
              "      <th>Special</th>\n",
              "      <th>Preferred Foot</th>\n",
              "      <th>Skill Moves</th>\n",
              "      <th>Position</th>\n",
              "      <th>...</th>\n",
              "      <th>Penalties</th>\n",
              "      <th>Composure</th>\n",
              "      <th>Marking</th>\n",
              "      <th>StandingTackle</th>\n",
              "      <th>SlidingTackle</th>\n",
              "      <th>GKDiving</th>\n",
              "      <th>GKHandling</th>\n",
              "      <th>GKKicking</th>\n",
              "      <th>GKPositioning</th>\n",
              "      <th>GKReflexes</th>\n",
              "    </tr>\n",
              "  </thead>\n",
              "  <tbody>\n",
              "    <tr>\n",
              "      <th>0</th>\n",
              "      <td>L. Messi</td>\n",
              "      <td>31</td>\n",
              "      <td>94</td>\n",
              "      <td>94</td>\n",
              "      <td>FC Barcelona</td>\n",
              "      <td>€110.5M</td>\n",
              "      <td>2202</td>\n",
              "      <td>Left</td>\n",
              "      <td>4.0</td>\n",
              "      <td>RF</td>\n",
              "      <td>...</td>\n",
              "      <td>75.0</td>\n",
              "      <td>96.0</td>\n",
              "      <td>33.0</td>\n",
              "      <td>28.0</td>\n",
              "      <td>26.0</td>\n",
              "      <td>6.0</td>\n",
              "      <td>11.0</td>\n",
              "      <td>15.0</td>\n",
              "      <td>14.0</td>\n",
              "      <td>8.0</td>\n",
              "    </tr>\n",
              "    <tr>\n",
              "      <th>1</th>\n",
              "      <td>Cristiano Ronaldo</td>\n",
              "      <td>33</td>\n",
              "      <td>94</td>\n",
              "      <td>94</td>\n",
              "      <td>Juventus</td>\n",
              "      <td>€77M</td>\n",
              "      <td>2228</td>\n",
              "      <td>Right</td>\n",
              "      <td>5.0</td>\n",
              "      <td>ST</td>\n",
              "      <td>...</td>\n",
              "      <td>85.0</td>\n",
              "      <td>95.0</td>\n",
              "      <td>28.0</td>\n",
              "      <td>31.0</td>\n",
              "      <td>23.0</td>\n",
              "      <td>7.0</td>\n",
              "      <td>11.0</td>\n",
              "      <td>15.0</td>\n",
              "      <td>14.0</td>\n",
              "      <td>11.0</td>\n",
              "    </tr>\n",
              "    <tr>\n",
              "      <th>2</th>\n",
              "      <td>Neymar Jr</td>\n",
              "      <td>26</td>\n",
              "      <td>92</td>\n",
              "      <td>93</td>\n",
              "      <td>Paris Saint-Germain</td>\n",
              "      <td>€118.5M</td>\n",
              "      <td>2143</td>\n",
              "      <td>Right</td>\n",
              "      <td>5.0</td>\n",
              "      <td>LW</td>\n",
              "      <td>...</td>\n",
              "      <td>81.0</td>\n",
              "      <td>94.0</td>\n",
              "      <td>27.0</td>\n",
              "      <td>24.0</td>\n",
              "      <td>33.0</td>\n",
              "      <td>9.0</td>\n",
              "      <td>9.0</td>\n",
              "      <td>15.0</td>\n",
              "      <td>15.0</td>\n",
              "      <td>11.0</td>\n",
              "    </tr>\n",
              "    <tr>\n",
              "      <th>3</th>\n",
              "      <td>De Gea</td>\n",
              "      <td>27</td>\n",
              "      <td>91</td>\n",
              "      <td>93</td>\n",
              "      <td>Manchester United</td>\n",
              "      <td>€72M</td>\n",
              "      <td>1471</td>\n",
              "      <td>Right</td>\n",
              "      <td>1.0</td>\n",
              "      <td>GK</td>\n",
              "      <td>...</td>\n",
              "      <td>40.0</td>\n",
              "      <td>68.0</td>\n",
              "      <td>15.0</td>\n",
              "      <td>21.0</td>\n",
              "      <td>13.0</td>\n",
              "      <td>90.0</td>\n",
              "      <td>85.0</td>\n",
              "      <td>87.0</td>\n",
              "      <td>88.0</td>\n",
              "      <td>94.0</td>\n",
              "    </tr>\n",
              "    <tr>\n",
              "      <th>4</th>\n",
              "      <td>K. De Bruyne</td>\n",
              "      <td>27</td>\n",
              "      <td>91</td>\n",
              "      <td>92</td>\n",
              "      <td>Manchester City</td>\n",
              "      <td>€102M</td>\n",
              "      <td>2281</td>\n",
              "      <td>Right</td>\n",
              "      <td>4.0</td>\n",
              "      <td>RCM</td>\n",
              "      <td>...</td>\n",
              "      <td>79.0</td>\n",
              "      <td>88.0</td>\n",
              "      <td>68.0</td>\n",
              "      <td>58.0</td>\n",
              "      <td>51.0</td>\n",
              "      <td>15.0</td>\n",
              "      <td>13.0</td>\n",
              "      <td>5.0</td>\n",
              "      <td>10.0</td>\n",
              "      <td>13.0</td>\n",
              "    </tr>\n",
              "  </tbody>\n",
              "</table>\n",
              "<p>5 rows × 46 columns</p>\n",
              "</div>"
            ],
            "text/plain": [
              "                Name  Age  Overall  Potential                 Club    Value  \\\n",
              "0           L. Messi   31       94         94         FC Barcelona  €110.5M   \n",
              "1  Cristiano Ronaldo   33       94         94             Juventus     €77M   \n",
              "2          Neymar Jr   26       92         93  Paris Saint-Germain  €118.5M   \n",
              "3             De Gea   27       91         93    Manchester United     €72M   \n",
              "4       K. De Bruyne   27       91         92      Manchester City    €102M   \n",
              "\n",
              "   Special Preferred Foot  Skill Moves Position     ...     Penalties  \\\n",
              "0     2202           Left          4.0       RF     ...          75.0   \n",
              "1     2228          Right          5.0       ST     ...          85.0   \n",
              "2     2143          Right          5.0       LW     ...          81.0   \n",
              "3     1471          Right          1.0       GK     ...          40.0   \n",
              "4     2281          Right          4.0      RCM     ...          79.0   \n",
              "\n",
              "  Composure  Marking  StandingTackle  SlidingTackle  GKDiving  GKHandling  \\\n",
              "0      96.0     33.0            28.0           26.0       6.0        11.0   \n",
              "1      95.0     28.0            31.0           23.0       7.0        11.0   \n",
              "2      94.0     27.0            24.0           33.0       9.0         9.0   \n",
              "3      68.0     15.0            21.0           13.0      90.0        85.0   \n",
              "4      88.0     68.0            58.0           51.0      15.0        13.0   \n",
              "\n",
              "   GKKicking  GKPositioning  GKReflexes  \n",
              "0       15.0           14.0         8.0  \n",
              "1       15.0           14.0        11.0  \n",
              "2       15.0           15.0        11.0  \n",
              "3       87.0           88.0        94.0  \n",
              "4        5.0           10.0        13.0  \n",
              "\n",
              "[5 rows x 46 columns]"
            ]
          },
          "metadata": {
            "tags": []
          },
          "execution_count": 24
        }
      ]
    },
    {
      "metadata": {
        "id": "pf95giSlwQ4a",
        "colab_type": "code",
        "colab": {}
      },
      "cell_type": "code",
      "source": [
        "data['Difference'] = data['Potential']-data['Overall']\n",
        "\n",
        "def evolution(d):\n",
        "    if d==0:\n",
        "        return 'Stable'\n",
        "    elif d>1 and d<=5:\n",
        "        return 'Small'\n",
        "    elif d>6 and d<=10:\n",
        "        return 'Medium'\n",
        "    elif d>10:\n",
        "        return 'Large'\n",
        "   \n",
        " \n",
        "data['Evolution'] = data['Difference'].apply(evolution)\n",
        "promising = data.loc[(data['Evolution']== 'Large') & (data['Potential']>85)].sort_values(by='Potential', ascending=False)[:10]"
      ],
      "execution_count": 0,
      "outputs": []
    },
    {
      "metadata": {
        "id": "qwml3ySNxbeA",
        "colab_type": "text"
      },
      "cell_type": "markdown",
      "source": [
        "MOST PROMISING YOUTH PLAYER WHO HAVE A VERY HIGH POTENTIAL OF BECOME GREAT ARE :"
      ]
    },
    {
      "metadata": {
        "id": "6XxIsmC-xlZh",
        "colab_type": "code",
        "colab": {
          "base_uri": "https://localhost:8080/",
          "height": 359
        },
        "outputId": "2618b1fd-02f1-4ce5-8768-db6a648dd6dd"
      },
      "cell_type": "code",
      "source": [
        "cols  = ['Name','Club','Overall','Age','Potential','Value']\n",
        "promising[cols]"
      ],
      "execution_count": 27,
      "outputs": [
        {
          "output_type": "execute_result",
          "data": {
            "text/html": [
              "<div>\n",
              "<style scoped>\n",
              "    .dataframe tbody tr th:only-of-type {\n",
              "        vertical-align: middle;\n",
              "    }\n",
              "\n",
              "    .dataframe tbody tr th {\n",
              "        vertical-align: top;\n",
              "    }\n",
              "\n",
              "    .dataframe thead th {\n",
              "        text-align: right;\n",
              "    }\n",
              "</style>\n",
              "<table border=\"1\" class=\"dataframe\">\n",
              "  <thead>\n",
              "    <tr style=\"text-align: right;\">\n",
              "      <th></th>\n",
              "      <th>Name</th>\n",
              "      <th>Club</th>\n",
              "      <th>Overall</th>\n",
              "      <th>Age</th>\n",
              "      <th>Potential</th>\n",
              "      <th>Value</th>\n",
              "    </tr>\n",
              "  </thead>\n",
              "  <tbody>\n",
              "    <tr>\n",
              "      <th>229</th>\n",
              "      <td>G. Donnarumma</td>\n",
              "      <td>Milan</td>\n",
              "      <td>82</td>\n",
              "      <td>19</td>\n",
              "      <td>93</td>\n",
              "      <td>€29M</td>\n",
              "    </tr>\n",
              "    <tr>\n",
              "      <th>1143</th>\n",
              "      <td>Vinícius Júnior</td>\n",
              "      <td>Real Madrid</td>\n",
              "      <td>77</td>\n",
              "      <td>17</td>\n",
              "      <td>92</td>\n",
              "      <td>€17.5M</td>\n",
              "    </tr>\n",
              "    <tr>\n",
              "      <th>734</th>\n",
              "      <td>A. Lafont</td>\n",
              "      <td>Fiorentina</td>\n",
              "      <td>78</td>\n",
              "      <td>19</td>\n",
              "      <td>90</td>\n",
              "      <td>€14M</td>\n",
              "    </tr>\n",
              "    <tr>\n",
              "      <th>1004</th>\n",
              "      <td>J. Sancho</td>\n",
              "      <td>Borussia Dortmund</td>\n",
              "      <td>77</td>\n",
              "      <td>18</td>\n",
              "      <td>89</td>\n",
              "      <td>€14.5M</td>\n",
              "    </tr>\n",
              "    <tr>\n",
              "      <th>1070</th>\n",
              "      <td>P. Cutrone</td>\n",
              "      <td>Milan</td>\n",
              "      <td>77</td>\n",
              "      <td>20</td>\n",
              "      <td>89</td>\n",
              "      <td>€16M</td>\n",
              "    </tr>\n",
              "    <tr>\n",
              "      <th>1149</th>\n",
              "      <td>R. Bentancur</td>\n",
              "      <td>Juventus</td>\n",
              "      <td>77</td>\n",
              "      <td>21</td>\n",
              "      <td>89</td>\n",
              "      <td>€15.5M</td>\n",
              "    </tr>\n",
              "    <tr>\n",
              "      <th>1172</th>\n",
              "      <td>N. Barella</td>\n",
              "      <td>Cagliari</td>\n",
              "      <td>77</td>\n",
              "      <td>21</td>\n",
              "      <td>89</td>\n",
              "      <td>€15.5M</td>\n",
              "    </tr>\n",
              "    <tr>\n",
              "      <th>7414</th>\n",
              "      <td>S. Tonali</td>\n",
              "      <td>Brescia</td>\n",
              "      <td>68</td>\n",
              "      <td>18</td>\n",
              "      <td>89</td>\n",
              "      <td>€1.8M</td>\n",
              "    </tr>\n",
              "    <tr>\n",
              "      <th>6102</th>\n",
              "      <td>Riqui Puig</td>\n",
              "      <td>FC Barcelona</td>\n",
              "      <td>69</td>\n",
              "      <td>18</td>\n",
              "      <td>89</td>\n",
              "      <td>€2.1M</td>\n",
              "    </tr>\n",
              "    <tr>\n",
              "      <th>1763</th>\n",
              "      <td>A. Meret</td>\n",
              "      <td>Napoli</td>\n",
              "      <td>75</td>\n",
              "      <td>21</td>\n",
              "      <td>89</td>\n",
              "      <td>€12M</td>\n",
              "    </tr>\n",
              "  </tbody>\n",
              "</table>\n",
              "</div>"
            ],
            "text/plain": [
              "                 Name               Club  Overall  Age  Potential   Value\n",
              "229     G. Donnarumma              Milan       82   19         93    €29M\n",
              "1143  Vinícius Júnior        Real Madrid       77   17         92  €17.5M\n",
              "734         A. Lafont         Fiorentina       78   19         90    €14M\n",
              "1004        J. Sancho  Borussia Dortmund       77   18         89  €14.5M\n",
              "1070       P. Cutrone              Milan       77   20         89    €16M\n",
              "1149     R. Bentancur           Juventus       77   21         89  €15.5M\n",
              "1172       N. Barella           Cagliari       77   21         89  €15.5M\n",
              "7414        S. Tonali            Brescia       68   18         89   €1.8M\n",
              "6102       Riqui Puig       FC Barcelona       69   18         89   €2.1M\n",
              "1763         A. Meret             Napoli       75   21         89    €12M"
            ]
          },
          "metadata": {
            "tags": []
          },
          "execution_count": 27
        }
      ]
    },
    {
      "metadata": {
        "id": "I3dqIcPzt5D3",
        "colab_type": "code",
        "colab": {
          "base_uri": "https://localhost:8080/",
          "height": 345
        },
        "outputId": "0c06a361-65da-4c8c-e1c6-5243e7f6eab3"
      },
      "cell_type": "code",
      "source": [
        "sns.countplot(data['Preferred Foot'])\n",
        "plt.title('Player preferred Foot')"
      ],
      "execution_count": 28,
      "outputs": [
        {
          "output_type": "stream",
          "text": [
            "/usr/local/lib/python3.6/dist-packages/seaborn/categorical.py:1428: FutureWarning: remove_na is deprecated and is a private function. Do not use.\n",
            "  stat_data = remove_na(group_data)\n"
          ],
          "name": "stderr"
        },
        {
          "output_type": "execute_result",
          "data": {
            "text/plain": [
              "Text(0.5, 1.0, 'Player preferred Foot')"
            ]
          },
          "metadata": {
            "tags": []
          },
          "execution_count": 28
        },
        {
          "output_type": "display_data",
          "data": {
            "image/png": "[encoded data removed]",
            "text/plain": [
              "<Figure size 432x288 with 1 Axes>"
            ]
          },
          "metadata": {
            "tags": []
          }
        }
      ]
    },
    {
      "metadata": {
        "id": "6BvlSSz7woLc",
        "colab_type": "code",
        "colab": {
          "base_uri": "https://localhost:8080/",
          "height": 671
        },
        "outputId": "20740836-be07-403e-b51c-41d7b1f5a2cc"
      },
      "cell_type": "code",
      "source": [
        "plt.figure(figsize=(15,10))\n",
        "sns.countplot(data['Position'])\n",
        "plt.title('Number of players per position')"
      ],
      "execution_count": 29,
      "outputs": [
        {
          "output_type": "stream",
          "text": [
            "/usr/local/lib/python3.6/dist-packages/seaborn/categorical.py:1428: FutureWarning: remove_na is deprecated and is a private function. Do not use.\n",
            "  stat_data = remove_na(group_data)\n"
          ],
          "name": "stderr"
        },
        {
          "output_type": "execute_result",
          "data": {
            "text/plain": [
              "Text(0.5, 1.0, 'Number of players per position')"
            ]
          },
          "metadata": {
            "tags": []
          },
          "execution_count": 29
        },
        {
          "output_type": "display_data",
          "data": {
            "image/png": "[encoded data removed]",
            "text/plain": [
              "<Figure size 1080x720 with 1 Axes>"
            ]
          },
          "metadata": {
            "tags": []
          }
        }
      ]
    },
    {
      "metadata": {
        "id": "1KNxaOeZzY65",
        "colab_type": "code",
        "colab": {}
      },
      "cell_type": "code",
      "source": [
        "from sklearn.preprocessing import StandardScaler\n",
        "from sklearn.neighbors import NearestNeighbors\n",
        "from sklearn.decomposition import PCA"
      ],
      "execution_count": 0,
      "outputs": []
    },
    {
      "metadata": {
        "id": "FRzkNdaFB3EE",
        "colab_type": "code",
        "colab": {
          "base_uri": "https://localhost:8080/",
          "height": 153
        },
        "outputId": "9c89781d-d54d-4153-83d3-fe483be369bf"
      },
      "cell_type": "code",
      "source": [
        "# chooosing only import attritubes\n",
        "data = pd.read_csv('fifa_data/data.csv')\n",
        "\n",
        "attributes = data.iloc[:, 54:83]\n",
        "attributes['Skill Moves'] = data['Skill Moves']\n",
        "workrate = data['Work Rate'].str.get_dummies(sep='/ ')\n",
        "attributes = pd.concat([attributes, workrate], axis=1)\n",
        "df = attributes\n",
        "attributes = attributes.dropna()\n",
        "df['Name'] = data['Name']\n",
        "df = df.dropna()\n",
        "print(attributes.columns)"
      ],
      "execution_count": 31,
      "outputs": [
        {
          "output_type": "stream",
          "text": [
            "Index(['Crossing', 'Finishing', 'HeadingAccuracy', 'ShortPassing', 'Volleys',\n",
            "       'Dribbling', 'Curve', 'FKAccuracy', 'LongPassing', 'BallControl',\n",
            "       'Acceleration', 'SprintSpeed', 'Agility', 'Reactions', 'Balance',\n",
            "       'ShotPower', 'Jumping', 'Stamina', 'Strength', 'LongShots',\n",
            "       'Aggression', 'Interceptions', 'Positioning', 'Vision', 'Penalties',\n",
            "       'Composure', 'Marking', 'StandingTackle', 'SlidingTackle',\n",
            "       'Skill Moves', 'High', 'Low', 'Medium'],\n",
            "      dtype='object')\n"
          ],
          "name": "stdout"
        }
      ]
    },
    {
      "metadata": {
        "id": "jmtlFXeFCGoa",
        "colab_type": "code",
        "colab": {
          "base_uri": "https://localhost:8080/",
          "height": 270
        },
        "outputId": "9c892975-c174-4fc7-cbdf-fce351f621fd"
      },
      "cell_type": "code",
      "source": [
        "attributes.head()"
      ],
      "execution_count": 32,
      "outputs": [
        {
          "output_type": "execute_result",
          "data": {
            "text/html": [
              "<div>\n",
              "<style scoped>\n",
              "    .dataframe tbody tr th:only-of-type {\n",
              "        vertical-align: middle;\n",
              "    }\n",
              "\n",
              "    .dataframe tbody tr th {\n",
              "        vertical-align: top;\n",
              "    }\n",
              "\n",
              "    .dataframe thead th {\n",
              "        text-align: right;\n",
              "    }\n",
              "</style>\n",
              "<table border=\"1\" class=\"dataframe\">\n",
              "  <thead>\n",
              "    <tr style=\"text-align: right;\">\n",
              "      <th></th>\n",
              "      <th>Crossing</th>\n",
              "      <th>Finishing</th>\n",
              "      <th>HeadingAccuracy</th>\n",
              "      <th>ShortPassing</th>\n",
              "      <th>Volleys</th>\n",
              "      <th>Dribbling</th>\n",
              "      <th>Curve</th>\n",
              "      <th>FKAccuracy</th>\n",
              "      <th>LongPassing</th>\n",
              "      <th>BallControl</th>\n",
              "      <th>...</th>\n",
              "      <th>Vision</th>\n",
              "      <th>Penalties</th>\n",
              "      <th>Composure</th>\n",
              "      <th>Marking</th>\n",
              "      <th>StandingTackle</th>\n",
              "      <th>SlidingTackle</th>\n",
              "      <th>Skill Moves</th>\n",
              "      <th>High</th>\n",
              "      <th>Low</th>\n",
              "      <th>Medium</th>\n",
              "    </tr>\n",
              "  </thead>\n",
              "  <tbody>\n",
              "    <tr>\n",
              "      <th>0</th>\n",
              "      <td>84.0</td>\n",
              "      <td>95.0</td>\n",
              "      <td>70.0</td>\n",
              "      <td>90.0</td>\n",
              "      <td>86.0</td>\n",
              "      <td>97.0</td>\n",
              "      <td>93.0</td>\n",
              "      <td>94.0</td>\n",
              "      <td>87.0</td>\n",
              "      <td>96.0</td>\n",
              "      <td>...</td>\n",
              "      <td>94.0</td>\n",
              "      <td>75.0</td>\n",
              "      <td>96.0</td>\n",
              "      <td>33.0</td>\n",
              "      <td>28.0</td>\n",
              "      <td>26.0</td>\n",
              "      <td>4.0</td>\n",
              "      <td>0</td>\n",
              "      <td>0</td>\n",
              "      <td>1</td>\n",
              "    </tr>\n",
              "    <tr>\n",
              "      <th>1</th>\n",
              "      <td>84.0</td>\n",
              "      <td>94.0</td>\n",
              "      <td>89.0</td>\n",
              "      <td>81.0</td>\n",
              "      <td>87.0</td>\n",
              "      <td>88.0</td>\n",
              "      <td>81.0</td>\n",
              "      <td>76.0</td>\n",
              "      <td>77.0</td>\n",
              "      <td>94.0</td>\n",
              "      <td>...</td>\n",
              "      <td>82.0</td>\n",
              "      <td>85.0</td>\n",
              "      <td>95.0</td>\n",
              "      <td>28.0</td>\n",
              "      <td>31.0</td>\n",
              "      <td>23.0</td>\n",
              "      <td>5.0</td>\n",
              "      <td>1</td>\n",
              "      <td>1</td>\n",
              "      <td>0</td>\n",
              "    </tr>\n",
              "    <tr>\n",
              "      <th>2</th>\n",
              "      <td>79.0</td>\n",
              "      <td>87.0</td>\n",
              "      <td>62.0</td>\n",
              "      <td>84.0</td>\n",
              "      <td>84.0</td>\n",
              "      <td>96.0</td>\n",
              "      <td>88.0</td>\n",
              "      <td>87.0</td>\n",
              "      <td>78.0</td>\n",
              "      <td>95.0</td>\n",
              "      <td>...</td>\n",
              "      <td>87.0</td>\n",
              "      <td>81.0</td>\n",
              "      <td>94.0</td>\n",
              "      <td>27.0</td>\n",
              "      <td>24.0</td>\n",
              "      <td>33.0</td>\n",
              "      <td>5.0</td>\n",
              "      <td>1</td>\n",
              "      <td>0</td>\n",
              "      <td>1</td>\n",
              "    </tr>\n",
              "    <tr>\n",
              "      <th>3</th>\n",
              "      <td>17.0</td>\n",
              "      <td>13.0</td>\n",
              "      <td>21.0</td>\n",
              "      <td>50.0</td>\n",
              "      <td>13.0</td>\n",
              "      <td>18.0</td>\n",
              "      <td>21.0</td>\n",
              "      <td>19.0</td>\n",
              "      <td>51.0</td>\n",
              "      <td>42.0</td>\n",
              "      <td>...</td>\n",
              "      <td>68.0</td>\n",
              "      <td>40.0</td>\n",
              "      <td>68.0</td>\n",
              "      <td>15.0</td>\n",
              "      <td>21.0</td>\n",
              "      <td>13.0</td>\n",
              "      <td>1.0</td>\n",
              "      <td>0</td>\n",
              "      <td>0</td>\n",
              "      <td>1</td>\n",
              "    </tr>\n",
              "    <tr>\n",
              "      <th>4</th>\n",
              "      <td>93.0</td>\n",
              "      <td>82.0</td>\n",
              "      <td>55.0</td>\n",
              "      <td>92.0</td>\n",
              "      <td>82.0</td>\n",
              "      <td>86.0</td>\n",
              "      <td>85.0</td>\n",
              "      <td>83.0</td>\n",
              "      <td>91.0</td>\n",
              "      <td>91.0</td>\n",
              "      <td>...</td>\n",
              "      <td>94.0</td>\n",
              "      <td>79.0</td>\n",
              "      <td>88.0</td>\n",
              "      <td>68.0</td>\n",
              "      <td>58.0</td>\n",
              "      <td>51.0</td>\n",
              "      <td>4.0</td>\n",
              "      <td>1</td>\n",
              "      <td>0</td>\n",
              "      <td>0</td>\n",
              "    </tr>\n",
              "  </tbody>\n",
              "</table>\n",
              "<p>5 rows × 33 columns</p>\n",
              "</div>"
            ],
            "text/plain": [
              "   Crossing  Finishing  HeadingAccuracy  ShortPassing  Volleys  Dribbling  \\\n",
              "0      84.0       95.0             70.0          90.0     86.0       97.0   \n",
              "1      84.0       94.0             89.0          81.0     87.0       88.0   \n",
              "2      79.0       87.0             62.0          84.0     84.0       96.0   \n",
              "3      17.0       13.0             21.0          50.0     13.0       18.0   \n",
              "4      93.0       82.0             55.0          92.0     82.0       86.0   \n",
              "\n",
              "   Curve  FKAccuracy  LongPassing  BallControl   ...    Vision  Penalties  \\\n",
              "0   93.0        94.0         87.0         96.0   ...      94.0       75.0   \n",
              "1   81.0        76.0         77.0         94.0   ...      82.0       85.0   \n",
              "2   88.0        87.0         78.0         95.0   ...      87.0       81.0   \n",
              "3   21.0        19.0         51.0         42.0   ...      68.0       40.0   \n",
              "4   85.0        83.0         91.0         91.0   ...      94.0       79.0   \n",
              "\n",
              "   Composure  Marking  StandingTackle  SlidingTackle  Skill Moves  High  Low  \\\n",
              "0       96.0     33.0            28.0           26.0          4.0     0    0   \n",
              "1       95.0     28.0            31.0           23.0          5.0     1    1   \n",
              "2       94.0     27.0            24.0           33.0          5.0     1    0   \n",
              "3       68.0     15.0            21.0           13.0          1.0     0    0   \n",
              "4       88.0     68.0            58.0           51.0          4.0     1    0   \n",
              "\n",
              "   Medium  \n",
              "0       1  \n",
              "1       0  \n",
              "2       1  \n",
              "3       1  \n",
              "4       0  \n",
              "\n",
              "[5 rows x 33 columns]"
            ]
          },
          "metadata": {
            "tags": []
          },
          "execution_count": 32
        }
      ]
    },
    {
      "metadata": {
        "id": "ms7bT8c_CLcF",
        "colab_type": "code",
        "colab": {
          "base_uri": "https://localhost:8080/",
          "height": 105
        },
        "outputId": "74c7a05b-3e13-4efe-edfe-6835f158a526"
      },
      "cell_type": "code",
      "source": [
        "scaled = StandardScaler()\n",
        "X = scaled.fit_transform(attributes)"
      ],
      "execution_count": 33,
      "outputs": [
        {
          "output_type": "stream",
          "text": [
            "/usr/local/lib/python3.6/dist-packages/sklearn/preprocessing/data.py:645: DataConversionWarning: Data with input dtype int64, float64 were all converted to float64 by StandardScaler.\n",
            "  return self.partial_fit(X, y)\n",
            "/usr/local/lib/python3.6/dist-packages/sklearn/base.py:464: DataConversionWarning: Data with input dtype int64, float64 were all converted to float64 by StandardScaler.\n",
            "  return self.fit(X, **fit_params).transform(X)\n"
          ],
          "name": "stderr"
        }
      ]
    },
    {
      "metadata": {
        "id": "_OGNKuW0CPQs",
        "colab_type": "code",
        "colab": {
          "base_uri": "https://localhost:8080/",
          "height": 51
        },
        "outputId": "4d0ce1d5-9aca-439a-8cb0-09c24cd6418d"
      },
      "cell_type": "code",
      "source": [
        "recommendations = NearestNeighbors(n_neighbors=6,algorithm='ball_tree')\n",
        "recommendations.fit(X)"
      ],
      "execution_count": 34,
      "outputs": [
        {
          "output_type": "execute_result",
          "data": {
            "text/plain": [
              "NearestNeighbors(algorithm='ball_tree', leaf_size=30, metric='minkowski',\n",
              "         metric_params=None, n_jobs=None, n_neighbors=6, p=2, radius=1.0)"
            ]
          },
          "metadata": {
            "tags": []
          },
          "execution_count": 34
        }
      ]
    },
    {
      "metadata": {
        "id": "AEzhy-wwCXGG",
        "colab_type": "code",
        "colab": {}
      },
      "cell_type": "code",
      "source": [
        "player_index = recommendations.kneighbors(X)[1]"
      ],
      "execution_count": 0,
      "outputs": []
    },
    {
      "metadata": {
        "id": "qOqluYCqCYXp",
        "colab_type": "code",
        "colab": {
          "base_uri": "https://localhost:8080/",
          "height": 136
        },
        "outputId": "5fe0da05-abca-4cbe-cb72-84d2ffe7c9f3"
      },
      "cell_type": "code",
      "source": [
        "player_index"
      ],
      "execution_count": 36,
      "outputs": [
        {
          "output_type": "execute_result",
          "data": {
            "text/plain": [
              "array([[    0,     5,    15,     2,   236,    84],\n",
              "       [    1,   124,   170,    17,   713,    93],\n",
              "       [    2,     5,    15,    65,    25,    68],\n",
              "       ...,\n",
              "       [18156, 18015, 17154, 17956, 17994, 17968],\n",
              "       [18157, 17868, 18071, 17493, 17969, 18041],\n",
              "       [18158, 17869, 18042, 18086, 17888, 17467]])"
            ]
          },
          "metadata": {
            "tags": []
          },
          "execution_count": 36
        }
      ]
    },
    {
      "metadata": {
        "id": "PkNofBOqCZ4u",
        "colab_type": "code",
        "colab": {}
      },
      "cell_type": "code",
      "source": [
        "def get_index(x):\n",
        "    return df[df['Name']==x].index.tolist()[0]\n",
        "\n",
        "def recommend_me(player):\n",
        "    print(\"5 Players similar to {} are : \".format(player))\n",
        "    index=  get_index(player)\n",
        "    for i in player_index[index][1:]:\n",
        "        print(df.iloc[i]['Name'])"
      ],
      "execution_count": 0,
      "outputs": []
    },
    {
      "metadata": {
        "id": "a3Ut2yzlCeav",
        "colab_type": "code",
        "colab": {
          "base_uri": "https://localhost:8080/",
          "height": 119
        },
        "outputId": "d5a1f4ac-ab61-4877-86ac-1778e7fd8f8e"
      },
      "cell_type": "code",
      "source": [
        "recommend_me('L. Messi')"
      ],
      "execution_count": 38,
      "outputs": [
        {
          "output_type": "stream",
          "text": [
            "5 Players similar to L. Messi are : \n",
            "E. Hazard\n",
            "P. Dybala\n",
            "Neymar Jr\n",
            "Malcom\n",
            "R. Mahrez\n"
          ],
          "name": "stdout"
        }
      ]
    },
    {
      "metadata": {
        "id": "HDTjOJV4CgWv",
        "colab_type": "code",
        "colab": {
          "base_uri": "https://localhost:8080/",
          "height": 119
        },
        "outputId": "bfe7607b-967e-48c2-ca03-726573243d71"
      },
      "cell_type": "code",
      "source": [
        "recommend_me('Cristiano Ronaldo')"
      ],
      "execution_count": 39,
      "outputs": [
        {
          "output_type": "stream",
          "text": [
            "5 Players similar to Cristiano Ronaldo are : \n",
            "M. Depay\n",
            "Q. Promes\n",
            "A. Griezmann\n",
            "E. Lavezzi\n",
            "A. Sánchez\n"
          ],
          "name": "stdout"
        }
      ]
    },
    {
      "metadata": {
        "id": "gn3QsqKtCovj",
        "colab_type": "code",
        "colab": {
          "base_uri": "https://localhost:8080/",
          "height": 119
        },
        "outputId": "f9e2a34c-8a71-4494-f27e-1cd675dffe85"
      },
      "cell_type": "code",
      "source": [
        "recommend_me(player='De Gea')"
      ],
      "execution_count": 40,
      "outputs": [
        {
          "output_type": "stream",
          "text": [
            "5 Players similar to De Gea are : \n",
            "J. Pickford\n",
            "K. Schmeichel\n",
            "Ederson\n",
            "M. Neuer\n",
            "J. Cillessen\n"
          ],
          "name": "stdout"
        }
      ]
    },
    {
      "metadata": {
        "id": "tsK1Py7GyJyA",
        "colab_type": "code",
        "colab": {
          "base_uri": "https://localhost:8080/",
          "height": 119
        },
        "outputId": "582c2a09-bb4f-4e33-b1b4-96e3d1456ffa"
      },
      "cell_type": "code",
      "source": [
        "recommend_me(player='K. De Bruyne')"
      ],
      "execution_count": 42,
      "outputs": [
        {
          "output_type": "stream",
          "text": [
            "5 Players similar to K. De Bruyne are : \n",
            "Koke\n",
            "D. Alli\n",
            "L. Modrić\n",
            "Roberto Firmino\n",
            "E. Lamela\n"
          ],
          "name": "stdout"
        }
      ]
    },
    {
      "metadata": {
        "id": "1uAxPhNDyOvF",
        "colab_type": "code",
        "colab": {}
      },
      "cell_type": "code",
      "source": [
        ""
      ],
      "execution_count": 0,
      "outputs": []
    }
  ]
}